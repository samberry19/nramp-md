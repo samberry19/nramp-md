{
 "cells": [
  {
   "cell_type": "code",
   "execution_count": null,
   "id": "8cdf271a",
   "metadata": {},
   "outputs": [],
   "source": [
    "import numpy as np\n",
    "import pandas as pd\n",
    "import matplotlib.pyplot as plt"
   ]
  },
  {
   "cell_type": "markdown",
   "id": "f024bb41",
   "metadata": {},
   "source": [
    "# RMSD\n",
    "\n",
    "rmsds were calculated with the rmsd.py script on a supercomputing cluster - see that script for details. Here's how I plotted them:"
   ]
  },
  {
   "cell_type": "code",
   "execution_count": null,
   "id": "888a5c69",
   "metadata": {},
   "outputs": [],
   "source": [
    "rmsds = np.load(\"data/rmsds.npy\", allow_pickle=True)\n",
    "colors = ['blue', 'skyblue', 'purple', 'darkorchid', 'orange', 'red']\n",
    "\n",
    "fig,ax = plt.subplots(1,3,figsize=(13, 1.5), sharey=True)\n",
    "\n",
    "# Note that I scale the rmsds by 10 to get them in Å rather than nm\n",
    "#  and each time step is 0.15 ns\n",
    "# Outward-open (S1a/b)\n",
    "ax[0].plot(np.arange(0, len(rmsds[0])) * 0.15, rmsds[0]*10, c='dodgerblue', lw=0.5)\n",
    "ax[0].plot(np.arange(0, len(rmsds[1])) * 0.15, rmsds[1]*10, c='dodgerblue', lw=0.5, alpha=0.5)\n",
    "\n",
    "# Occluded (S2a/b)\n",
    "ax[1].plot(np.arange(0, len(rmsds[2])) * 0.15, rmsds[2]*10, c='orchid', lw=0.5)\n",
    "ax[1].plot(np.arange(0, len(rmsds[3])) * 0.15, rmsds[3]*10, c='orchid', lw=0.5, alpha=0.5)\n",
    "\n",
    "# Inward-open (S3a/b)\n",
    "ax[2].plot(np.arange(0, len(rmsds[4])) * 0.15, rmsds[4]*10, c='orangered', lw=0.5)\n",
    "ax[2].plot(np.arange(0, len(rmsds[5])) * 0.15, rmsds[5]*10, c='orangered', lw=0.5, alpha=0.5)\n",
    "\n",
    "ax[0].set_xlabel('Time (ns)'); ax[1].set_xlabel('Time (ns)'); ax[2].set_xlabel('Time (ns)')\n",
    "ax[0].set_ylim(1.5,3.5); ax[1].set_ylim(1.5,3.5); ax[2].set_ylim(1.5,3.5)\n",
    "ax[0].set_ylabel(\"RMSD (Å)\")\n",
    "\n",
    "plt.savefig(\"plots/rmsds.pdf\", bbox_inches=\"tight\")"
   ]
  },
  {
   "cell_type": "markdown",
   "id": "f33a823e",
   "metadata": {},
   "source": [
    "# Distances"
   ]
  },
  {
   "cell_type": "code",
   "execution_count": null,
   "id": "4800f9f1",
   "metadata": {},
   "outputs": [],
   "source": [
    "dists = {}\n",
    "\n",
    "dists['130_378'] = pd.read_csv(\"data/distances/130_378_dist.csv\", index_col=0)\n",
    "dists['176_244'] = pd.read_csv(\"data/distances/176_244_dist.csv\", index_col=0)\n",
    "dists['228_275'] = pd.read_csv(\"data/distances/228_275_dist.csv\", index_col=0)\n",
    "\n",
    "for pair, dists in dists.items():\n",
    "    \n",
    "    fig,ax = plt.subplots(1,3,figsize=(13, 1.7), sharey=True)\n",
    "    \n",
    "    ax[0].plot(dists['time'], dists['S1a'], c='dodgerblue', lw=0.5)\n",
    "    ax[0].plot(dists['time'], dists['S1b'], c='dodgerblue', lw=0.5, alpha=0.5)\n",
    "    ax[1].plot(dists['time'], dists['S2a'], c='orchid', lw=0.5)\n",
    "    ax[1].plot(dists['time'], dists['S2b'], c='orchid', lw=0.5, alpha=0.5)\n",
    "    ax[2].plot(dists['time'], dists['S3a'], c='orangered', lw=0.5)\n",
    "    ax[2].plot(dists['time'], dists['S3b'], c='orangered', lw=0.5, alpha=0.5)\n",
    "    \n",
    "    ax[0].set_xlabel('Time (ns)'); ax[1].set_xlabel('Time (ns)'); ax[2].set_xlabel('Time (ns)')\n",
    "    ax[0].set_ylabel(\"Distance (Å)\")\n",
    "    \n",
    "    fig.suptitle(pair, y=1.03)"
   ]
  },
  {
   "cell_type": "markdown",
   "id": "cb08b62f",
   "metadata": {},
   "source": [
    "# H232 dihedrals"
   ]
  },
  {
   "cell_type": "markdown",
   "id": "532ba8ce",
   "metadata": {},
   "source": [
    "To generate the dihedrals from raw md files, I did the following on our supercomputing cluster for each trajectory:\n",
    "\n",
    "#### Import\n",
    "\n",
    "`\n",
    "import pandas as pd\n",
    "import mdtraj as md\n",
    "`\n",
    "\n",
    "\n",
    "#### Load in the trajectory\n",
    "\n",
    "`\n",
    "traj = md.load(path_to_traj.dcd, top=path_to_system.pdb)\n",
    "traj_protein = traj.restrict_atoms(traj.topology.select(\"protein\"))\n",
    "`\n",
    "\n",
    "#### Load in the dihedral table (provided)\n",
    "\n",
    "`\n",
    "dihtable=pd.read_csv(\"dihtable.csv\", index_col=0)\n",
    "`\n",
    "\n",
    "#### Calculate dihedrals\n",
    "Using the CalcDihedrals function from mdtools (easiest if that file is simply in the same directory)\n",
    "\n",
    "`\n",
    "from mdtools import CalcDihedrals\n",
    "dihedrals = CalcDihedrals(traj_protein, 'HIS232', dihtable, min_jumps=True, unit='deg')\n",
    "`\n",
    "\n",
    "I then saved these so you can have them here. Load them in:"
   ]
  },
  {
   "cell_type": "code",
   "execution_count": null,
   "id": "19943911",
   "metadata": {},
   "outputs": [],
   "source": [
    "h232_s1a = np.loadtxt(\"data/dihedrals/h232_dihedrals_S1a.txt\")\n",
    "h232_s1b = np.loadtxt(\"data/dihedrals/h232_dihedrals_S1b.txt\")\n",
    "h232_s2a = np.loadtxt(\"data/dihedrals/h232_dihedrals_S2a.txt\")\n",
    "h232_s2b = np.loadtxt(\"data/dihedrals/h232_dihedrals_S2b.txt\")\n",
    "h232_s3a = np.loadtxt(\"data/dihedrals/h232_dihedrals_S3a.txt\")\n",
    "h232_s3b = np.loadtxt(\"data/dihedrals/h232_dihedrals_S3b.txt\")"
   ]
  },
  {
   "cell_type": "markdown",
   "id": "9b9daf36",
   "metadata": {},
   "source": [
    "### Plot dihedrals:"
   ]
  },
  {
   "cell_type": "code",
   "execution_count": null,
   "id": "5163ca68",
   "metadata": {},
   "outputs": [],
   "source": [
    "fig,ax = plt.subplots(3, 2, figsize=(10,6.5))\n",
    "plt.rcParams['pdf.fonttype'] = 'truetype'\n",
    "\n",
    "ax[(0,0)].plot(h232_s1a[:,0], c='dodgerblue')\n",
    "ax[(0,0)].plot(h232_s1b[:,0], c='dodgerblue', alpha=0.5)\n",
    "ax[(0,0)].set_ylim(0, 370)\n",
    "\n",
    "ax[(0,1)].plot(h232_s1a[:,1] - 360, c='dodgerblue')\n",
    "ax[(0,1)].plot(h232_s1b[:,1] - 360, c='dodgerblue', alpha=0.5)\n",
    "ax[(0,1)].set_ylim(-180, 260)\n",
    "\n",
    "ax[(1,0)].plot(h232_s2a[:,0], c='orchid')\n",
    "ax[(1,0)].plot(h232_s2b[:,0], c='orchid', alpha=0.5)\n",
    "ax[(1,0)].set_ylim(0, 370)\n",
    "\n",
    "ax[(1,1)].plot(h232_s2a[:,1], c='orchid')\n",
    "ax[(1,1)].plot(h232_s2b[:,1], c='orchid', alpha=0.5)\n",
    "ax[(1,1)].set_ylim(-180, 260)\n",
    "\n",
    "ax[(2,0)].plot(h232_s3a[:,0], c='orangered')\n",
    "ax[(2,0)].plot(h232_s3b[:,0], c='orangered', alpha=0.5)\n",
    "ax[(2,0)].set_ylim(0, 370)\n",
    "\n",
    "# For simulation 3, I need to add or subtract 360 to match the others\n",
    "#  (doesn't change the data, just the \"phase\")\n",
    "h232_s3b_adj = []; h232_s3a_adj = []\n",
    "\n",
    "for i in h232_s3b[:,1]:\n",
    "    if i < -120:\n",
    "        i += 360\n",
    "    h232_s3b_adj.append(i)\n",
    "        \n",
    "for i in h232_s3a[:,1]:\n",
    "    if i > 220:\n",
    "        i -= 360\n",
    "    h232_s3a_adj.append(i)\n",
    "\n",
    "ax[(2,1)].plot(h232_s3a_adj, c='orangered')\n",
    "ax[(2,1)].plot(h232_s3b_adj, c='orangered', alpha=0.5)\n",
    "ax[(2,1)].set_ylim(-180, 260)\n",
    "\n",
    "ax[0,0].set_ylabel('$\\chi_1$')\n",
    "ax[1,0].set_ylabel('$\\chi_1$')\n",
    "ax[2,0].set_ylabel('$\\chi_1$')\n",
    "\n",
    "ax[0,1].set_ylabel('$\\chi_2$', labelpad=-1)\n",
    "ax[1,1].set_ylabel('$\\chi_2$', labelpad=-1)\n",
    "ax[2,1].set_ylabel('$\\chi_2$', labelpad=-1)\n",
    "\n",
    "plt.savefig(\"plots/dihedral_plot.pdf\", bbox_inches=\"tight\")"
   ]
  },
  {
   "cell_type": "code",
   "execution_count": null,
   "id": "058221d1",
   "metadata": {},
   "outputs": [],
   "source": [
    "from mdtools import AcceleratedSpectralClustering"
   ]
  },
  {
   "cell_type": "code",
   "execution_count": null,
   "id": "c3a4429b",
   "metadata": {},
   "outputs": [],
   "source": [
    "all_dihedrals = np.concatenate([h232_s1a, h232_s1b, h232_s2a, h232_s2b, h232_s3a, h232_s3b])\n",
    "\n",
    "# Map to spherical coordinates\n",
    "X = np.array([np.cos(all_dihedrals[:,0] * 2 * np.pi / 360) * np.sin(all_dihedrals[:,1] * 2 * np.pi / 360), \n",
    "              np.sin(all_dihedrals[:,0] * 2 * np.pi / 360) * np.sin(all_dihedrals[:,1] * 2 * np.pi / 360),\n",
    "              np.cos(all_dihedrals[:,1] * 2 * np.pi / 360)])\n",
    "\n",
    "# You don't really need to do the accelerated spectral clustering algorithm here because there aren't *that*\n",
    "#  many data points, but - eh - it doesn't hurt\n",
    "labels_ = AcceleratedSpectralClustering(X.T, 3, 1000)"
   ]
  },
  {
   "cell_type": "code",
   "execution_count": null,
   "id": "dfa809a6",
   "metadata": {},
   "outputs": [],
   "source": [
    "plt.figure(figsize=(6,3))\n",
    "\n",
    "# Map each frame in the concatenated data back to whichever trajectory it was originally from\n",
    "traj_mapper = np.concatenate([np.zeros(len(h232_s1a)),\n",
    "                    np.ones(len(h232_s1b)), \n",
    "                    np.ones(len(h232_s2a))*2, \n",
    "                    np.ones(len(h232_s2b))*3, \n",
    "                    np.ones(len(h232_s3a))*4, \n",
    "                    np.ones(len(h232_s3b))*5])\n",
    "\n",
    "# colors and transparencies\n",
    "colors = ['dodgerblue', 'dodgerblue', 'orchid', 'orchid', 'orangered', 'orangered']\n",
    "alphas = [1, 0.5, 1, 0.5, 1, 0.5]\n",
    "\n",
    "for k in range(6):\n",
    "    plt.bar(0 - 0.4 + 0.2*k, np.mean(labels_[traj_mapper==k]==0), width=0.18, color=colors[k], alpha=alphas[k])\n",
    "    \n",
    "for k in range(6):\n",
    "    plt.bar(1.5 - 0.4 + 0.2*k, np.mean(labels_[traj_mapper==k]==1), width=0.18, color=colors[k], alpha=alphas[k])\n",
    "    \n",
    "for k in range(6):\n",
    "    plt.bar(3 - 0.4 + 0.2*k, np.mean(labels_[traj_mapper==k]==2), width=0.18, color=colors[k], alpha=alphas[k])\n",
    "    \n",
    "plt.xticks([0, 1.5, 3], np.arange(3))\n",
    "plt.xlabel('Rotamer')\n",
    "    \n",
    "plt.ylabel('Fraction of frames')\n",
    "\n",
    "plt.savefig(\"plots/H232_rotamer_clusters.pdf\", bbox_inches=\"tight\")"
   ]
  },
  {
   "cell_type": "code",
   "execution_count": null,
   "id": "74e62eb9",
   "metadata": {},
   "outputs": [],
   "source": []
  }
 ],
 "metadata": {
  "kernelspec": {
   "display_name": "Python 3",
   "language": "python",
   "name": "python3"
  },
  "language_info": {
   "codemirror_mode": {
    "name": "ipython",
    "version": 3
   },
   "file_extension": ".py",
   "mimetype": "text/x-python",
   "name": "python",
   "nbconvert_exporter": "python",
   "pygments_lexer": "ipython3",
   "version": "3.8.8"
  }
 },
 "nbformat": 4,
 "nbformat_minor": 5
}
